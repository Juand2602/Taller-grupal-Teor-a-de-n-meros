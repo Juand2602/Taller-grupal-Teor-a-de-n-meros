{
  "nbformat": 4,
  "nbformat_minor": 0,
  "metadata": {
    "colab": {
      "name": "03_factorizacionPrima.ipynb",
      "provenance": [],
      "include_colab_link": true
    },
    "kernelspec": {
      "name": "python3",
      "display_name": "Python 3"
    },
    "language_info": {
      "name": "python"
    }
  },
  "cells": [
    {
      "cell_type": "markdown",
      "metadata": {
        "id": "view-in-github",
        "colab_type": "text"
      },
      "source": [
        "<a href=\"https://colab.research.google.com/github/Juand2602/Taller-grupal-Teoria-de-numeros/blob/main/03_factorizacionPrima.ipynb\" target=\"_parent\"><img src=\"https://colab.research.google.com/assets/colab-badge.svg\" alt=\"Open In Colab\"/></a>"
      ]
    },
    {
      "cell_type": "code",
      "execution_count": null,
      "metadata": {
        "id": "f2Lw1xNIMAkT"
      },
      "outputs": [],
      "source": [
        "def factoriza(n):\n",
        "  factoresprimos = []\n",
        "  potencias = []\n",
        "  k=2\n",
        "  j=2\n",
        "  while n!=1:\n",
        "    m = n%k\n",
        "    if(m != 0):\n",
        "      k=k+1\n",
        "    else:\n",
        "      n = n/k\n",
        "      factoresprimos.append(k)\n",
        "\n",
        "  bases = 1\n",
        "  exp = 1\n",
        "\n",
        "\n",
        "  lonfactpri = len(factoresprimos)\n",
        "  for i in range(lonfactpri-1):\n",
        "    if(factoresprimos[i]==factoresprimos[i+1]):\n",
        "      bases = bases + 1\n",
        "    else:\n",
        "      potencias.append(exp)\n",
        "\n",
        "  potencias.append(bases)\n",
        "  print(factoresprimos)\n",
        "  print(lonfactpri)\n",
        "  for j in range(lonfactpri-1):\n",
        "    if(factoresprimos[j]==factoresprimos[j+1]):\n",
        "      del factoresprimos[j]\n",
        "      lonfactpridec = lonfactpridec-1\n",
        "      print(lonfactpridec)\n",
        "      print(factoresprimos)\n",
        "\n",
        "  print(potencias)\n",
        "\n",
        "  potencias = list(reversed(potencias))\n",
        "  factprima = [factoresprimos,potencias]\n",
        "  print(factprima)"
      ]
    },
    {
      "cell_type": "code",
      "source": [
        "factoriza(240)"
      ],
      "metadata": {
        "colab": {
          "base_uri": "https://localhost:8080/",
          "height": 321
        },
        "id": "5oaSW2eOQcUT",
        "outputId": "2eca3f66-18f8-4330-9295-35a3bbbe5159"
      },
      "execution_count": null,
      "outputs": [
        {
          "output_type": "stream",
          "name": "stdout",
          "text": [
            "[2, 2, 2, 2, 3, 5]\n",
            "6\n"
          ]
        },
        {
          "output_type": "error",
          "ename": "UnboundLocalError",
          "evalue": "ignored",
          "traceback": [
            "\u001b[0;31m---------------------------------------------------------------------------\u001b[0m",
            "\u001b[0;31mUnboundLocalError\u001b[0m                         Traceback (most recent call last)",
            "\u001b[0;32m<ipython-input-62-0fd2f7d54ac5>\u001b[0m in \u001b[0;36m<module>\u001b[0;34m()\u001b[0m\n\u001b[0;32m----> 1\u001b[0;31m \u001b[0mfactoriza\u001b[0m\u001b[0;34m(\u001b[0m\u001b[0;36m240\u001b[0m\u001b[0;34m)\u001b[0m\u001b[0;34m\u001b[0m\u001b[0;34m\u001b[0m\u001b[0m\n\u001b[0m",
            "\u001b[0;32m<ipython-input-61-e3ac956c19bd>\u001b[0m in \u001b[0;36mfactoriza\u001b[0;34m(n)\u001b[0m\n\u001b[1;32m     29\u001b[0m     \u001b[0;32mif\u001b[0m\u001b[0;34m(\u001b[0m\u001b[0mfactoresprimos\u001b[0m\u001b[0;34m[\u001b[0m\u001b[0mj\u001b[0m\u001b[0;34m]\u001b[0m\u001b[0;34m==\u001b[0m\u001b[0mfactoresprimos\u001b[0m\u001b[0;34m[\u001b[0m\u001b[0mj\u001b[0m\u001b[0;34m+\u001b[0m\u001b[0;36m1\u001b[0m\u001b[0;34m]\u001b[0m\u001b[0;34m)\u001b[0m\u001b[0;34m:\u001b[0m\u001b[0;34m\u001b[0m\u001b[0;34m\u001b[0m\u001b[0m\n\u001b[1;32m     30\u001b[0m       \u001b[0;32mdel\u001b[0m \u001b[0mfactoresprimos\u001b[0m\u001b[0;34m[\u001b[0m\u001b[0mj\u001b[0m\u001b[0;34m]\u001b[0m\u001b[0;34m\u001b[0m\u001b[0;34m\u001b[0m\u001b[0m\n\u001b[0;32m---> 31\u001b[0;31m       \u001b[0mlonfactpridec\u001b[0m \u001b[0;34m=\u001b[0m \u001b[0mlonfactpridec\u001b[0m\u001b[0;34m-\u001b[0m\u001b[0;36m1\u001b[0m\u001b[0;34m\u001b[0m\u001b[0;34m\u001b[0m\u001b[0m\n\u001b[0m\u001b[1;32m     32\u001b[0m       \u001b[0mprint\u001b[0m\u001b[0;34m(\u001b[0m\u001b[0mlonfactpridec\u001b[0m\u001b[0;34m)\u001b[0m\u001b[0;34m\u001b[0m\u001b[0;34m\u001b[0m\u001b[0m\n\u001b[1;32m     33\u001b[0m       \u001b[0mprint\u001b[0m\u001b[0;34m(\u001b[0m\u001b[0mfactoresprimos\u001b[0m\u001b[0;34m)\u001b[0m\u001b[0;34m\u001b[0m\u001b[0;34m\u001b[0m\u001b[0m\n",
            "\u001b[0;31mUnboundLocalError\u001b[0m: local variable 'lonfactpridec' referenced before assignment"
          ]
        }
      ]
    }
  ]
}