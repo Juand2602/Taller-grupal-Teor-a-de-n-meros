{
  "nbformat": 4,
  "nbformat_minor": 0,
  "metadata": {
    "colab": {
      "name": "06_raicesPrimitivas.ipynb",
      "provenance": [],
      "authorship_tag": "ABX9TyOZs8IV1iwx7/I0veSscj1v",
      "include_colab_link": true
    },
    "kernelspec": {
      "name": "python3",
      "display_name": "Python 3"
    },
    "language_info": {
      "name": "python"
    }
  },
  "cells": [
    {
      "cell_type": "markdown",
      "metadata": {
        "id": "view-in-github",
        "colab_type": "text"
      },
      "source": [
        "<a href=\"https://colab.research.google.com/github/Juand2602/Taller-grupal-Teoria-de-numeros/blob/main/06_raicesPrimitivas.ipynb\" target=\"_parent\"><img src=\"https://colab.research.google.com/assets/colab-badge.svg\" alt=\"Open In Colab\"/></a>"
      ]
    },
    {
      "cell_type": "code",
      "execution_count": 1,
      "metadata": {
        "colab": {
          "base_uri": "https://localhost:8080/",
          "height": 35
        },
        "id": "3GeuLwfIhe3Z",
        "outputId": "2313247f-52b3-4841-ec2a-415dddd09817"
      },
      "outputs": [
        {
          "output_type": "execute_result",
          "data": {
            "application/vnd.google.colaboratory.intrinsic+json": {
              "type": "string"
            },
            "text/plain": [
              "'No!'"
            ]
          },
          "metadata": {},
          "execution_count": 1
        }
      ],
      "source": [
        "def es_raiz_primitiva(n,p):\n",
        "    potencia = (n**(p-1))\n",
        "\n",
        "    if(potencia % p) == 1:\n",
        "      return('Si!')\n",
        "    else:\n",
        "      return('No!')    \n",
        "     \n",
        "es_raiz_primitiva(2,4)"
      ]
    }
  ]
}