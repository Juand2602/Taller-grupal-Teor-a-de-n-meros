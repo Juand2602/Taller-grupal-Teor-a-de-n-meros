{
  "cells": [
    {
      "cell_type": "markdown",
      "metadata": {
        "id": "view-in-github",
        "colab_type": "text"
      },
      "source": [
        "<a href=\"https://colab.research.google.com/github/Juand2602/Taller-grupal-Teoria-de-numeros/blob/main/04_algEuclideano.ipynb\" target=\"_parent\"><img src=\"https://colab.research.google.com/assets/colab-badge.svg\" alt=\"Open In Colab\"/></a>"
      ]
    },
    {
      "cell_type": "code",
      "execution_count": null,
      "metadata": {
        "id": "_IoU8a9uElS1"
      },
      "outputs": [],
      "source": [
        "def algEuclideano(a,b):\n",
        "\n",
        "  ep=[a,b]\n",
        "  epos = len(ep)\n",
        "  residuos=[]\n",
        "  posicion = len(residuos)\n",
        "  mod = a%b\n",
        "  pe = a//b\n",
        "  while mod!=0:\n",
        "    r=a-(b*pe)\n",
        "    residuos.append(r)\n",
        "    a=b\n",
        "    b=r\n",
        "    mod = a%b\n",
        "    pe = a//b\n",
        "\n",
        "  if(ep[0]<ep[1]):\n",
        "     del residuos[0]\n",
        "\n",
        "  return residuos[posicion-1]"
      ]
    },
    {
      "cell_type": "code",
      "execution_count": null,
      "metadata": {
        "id": "SOMcsfHyULOC"
      },
      "outputs": [],
      "source": [
        "def mcd(a,b):\n",
        "  maximo = algEuclideano(a,b)\n",
        "  print(f\"{maximo} Es el valor del máximo común divisor entre \" f\"{a}\"\" y \"f\"{b}\"\".\")"
      ]
    },
    {
      "cell_type": "code",
      "execution_count": null,
      "metadata": {
        "id": "GX2BPA_eEfSk"
      },
      "outputs": [],
      "source": [
        "def primos_relativos(a,b):\n",
        "  relativos = algEuclideano(a,b)\n",
        "  if(relativos == 1):\n",
        "     print(\"Si!\")\n",
        "  else:\n",
        "    print(\"NO!\")"
      ]
    },
    {
      "cell_type": "code",
      "execution_count": null,
      "metadata": {
        "colab": {
          "base_uri": "https://localhost:8080/"
        },
        "id": "P8z9ktNrGk5D",
        "outputId": "c6a9f2f4-4307-479d-ef42-7cc8ecb1947f"
      },
      "outputs": [
        {
          "output_type": "stream",
          "name": "stdout",
          "text": [
            "3 Es el valor del máximo común divisor entre 405 y 1023.\n",
            "NO!\n"
          ]
        }
      ],
      "source": [
        "mcd(405,1023)\n",
        "primos_relativos(405,1023)"
      ]
    }
  ],
  "metadata": {
    "colab": {
      "name": "04_algEuclideano.ipynb",
      "provenance": [],
      "include_colab_link": true
    },
    "kernelspec": {
      "display_name": "Python 3",
      "name": "python3"
    },
    "language_info": {
      "name": "python"
    }
  },
  "nbformat": 4,
  "nbformat_minor": 0
}