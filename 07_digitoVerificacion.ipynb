{
  "nbformat": 4,
  "nbformat_minor": 0,
  "metadata": {
    "colab": {
      "name": "07_digitoVerificacion.ipynb",
      "provenance": [],
      "include_colab_link": true
    },
    "kernelspec": {
      "name": "python3",
      "display_name": "Python 3"
    },
    "language_info": {
      "name": "python"
    }
  },
  "cells": [
    {
      "cell_type": "markdown",
      "metadata": {
        "id": "view-in-github",
        "colab_type": "text"
      },
      "source": [
        "<a href=\"https://colab.research.google.com/github/Juand2602/Taller-grupal-Teoria-de-numeros/blob/main/07_digitoVerificacion.ipynb\" target=\"_parent\"><img src=\"https://colab.research.google.com/assets/colab-badge.svg\" alt=\"Open In Colab\"/></a>"
      ]
    },
    {
      "cell_type": "code",
      "execution_count": null,
      "metadata": {
        "id": "dJW3V7AlXVKy"
      },
      "outputs": [],
      "source": [
        "def digito_verificacion(n):\n",
        "  suma = 0\n",
        "  codigo = [int(i) for i in str(n)]\n",
        "\n",
        "  for i in range(9):\n",
        "    suma = suma + codigo[i]\n",
        "  codverif = suma%11\n",
        "  if (codverif == 10):\n",
        "    codverif = \"X\"\n",
        "    print(f\"{codverif} \" \"Es el digito de verificación ISBN-10 de \" f\"{n}\"\".\")\n",
        "    print(f\"El código de verificación ISBN-10 es \" f\"{n}\" f\"{codverif}\"\".\")\n",
        "  else:\n",
        "    print(f\"{codverif} \" \"Es el código de verificación ISBN-10 de \" f\"{n}\"\".\")\n",
        "    print(f\"El código de verificación ISBN-10 es \" f\"{n}\" f\"{codverif}\"\".\")"
      ]
    },
    {
      "cell_type": "code",
      "source": [
        "digito_verificacion(561522408)"
      ],
      "metadata": {
        "colab": {
          "base_uri": "https://localhost:8080/"
        },
        "id": "z6B3Dw699tI5",
        "outputId": "69367e18-9153-4fe0-9d1c-502fb1f4a0bc"
      },
      "execution_count": null,
      "outputs": [
        {
          "output_type": "stream",
          "name": "stdout",
          "text": [
            "0 Es el código de verificación ISBN-10 de 561522408.\n",
            "El código de verificación ISBN-10 es 5615224080.\n"
          ]
        }
      ]
    }
  ]
}