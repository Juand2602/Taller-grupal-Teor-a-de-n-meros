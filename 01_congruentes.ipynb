{
  "nbformat": 4,
  "nbformat_minor": 0,
  "metadata": {
    "colab": {
      "name": "01_congruentes.ipynb",
      "provenance": [],
      "include_colab_link": true
    },
    "kernelspec": {
      "name": "python3",
      "display_name": "Python 3"
    },
    "language_info": {
      "name": "python"
    }
  },
  "cells": [
    {
      "cell_type": "markdown",
      "metadata": {
        "id": "view-in-github",
        "colab_type": "text"
      },
      "source": [
        "<a href=\"https://colab.research.google.com/github/Juand2602/Taller-grupal-Teoria-de-numeros/blob/main/01_congruentes.ipynb\" target=\"_parent\"><img src=\"https://colab.research.google.com/assets/colab-badge.svg\" alt=\"Open In Colab\"/></a>"
      ]
    },
    {
      "cell_type": "markdown",
      "source": [
        "hola"
      ],
      "metadata": {
        "id": "e3Ix0JngoWjp"
      }
    },
    {
      "cell_type": "code",
      "execution_count": null,
      "metadata": {
        "id": "eOvoMqwYgaG5"
      },
      "outputs": [],
      "source": [
        "def son_congruentes(a,b,m):\n",
        "    if(a%m == b%m):\n",
        "     print(\"Si!\")\n",
        "    else:\n",
        "     print(\"NO!\")"
      ]
    },
    {
      "cell_type": "code",
      "source": [
        "son_congruentes(13,19,6)"
      ],
      "metadata": {
        "colab": {
          "base_uri": "https://localhost:8080/"
        },
        "id": "i9tz_sw6kBAN",
        "outputId": "9eb1e445-09f6-4d0a-eb5b-3b0b09b39695"
      },
      "execution_count": null,
      "outputs": [
        {
          "output_type": "stream",
          "name": "stdout",
          "text": [
            "Si!\n"
          ]
        }
      ]
    }
  ]
}