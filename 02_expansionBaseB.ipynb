{
  "nbformat": 4,
  "nbformat_minor": 0,
  "metadata": {
    "colab": {
      "name": "02_expansionBaseB.ipynb",
      "provenance": [],
      "include_colab_link": true
    },
    "kernelspec": {
      "name": "python3",
      "display_name": "Python 3"
    },
    "language_info": {
      "name": "python"
    }
  },
  "cells": [
    {
      "cell_type": "markdown",
      "metadata": {
        "id": "view-in-github",
        "colab_type": "text"
      },
      "source": [
        "<a href=\"https://colab.research.google.com/github/Juand2602/Taller-grupal-Teoria-de-numeros/blob/main/02_expansionBaseB.ipynb\" target=\"_parent\"><img src=\"https://colab.research.google.com/assets/colab-badge.svg\" alt=\"Open In Colab\"/></a>"
      ]
    },
    {
      "cell_type": "code",
      "execution_count": null,
      "metadata": {
        "id": "aVnN1T2dmIZf"
      },
      "outputs": [],
      "source": [
        "def expansion(n,b):\n",
        "  residuo=[]\n",
        "  while n!=0:\n",
        "    m=n%b\n",
        "    residuo.append(m)\n",
        "    n=n//b\n",
        "  expfinal = list(reversed(residuo))\n",
        "  print(expfinal)"
      ]
    },
    {
      "cell_type": "code",
      "source": [
        "expansion(12,2)"
      ],
      "metadata": {
        "colab": {
          "base_uri": "https://localhost:8080/"
        },
        "id": "vtRA3S-OxWKn",
        "outputId": "224914f5-323d-4c16-f885-6385f8f09429"
      },
      "execution_count": null,
      "outputs": [
        {
          "output_type": "stream",
          "name": "stdout",
          "text": [
            "[1, 1, 0, 0]\n"
          ]
        }
      ]
    }
  ]
}